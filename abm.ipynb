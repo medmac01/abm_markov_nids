{
 "cells": [
  {
   "cell_type": "code",
   "execution_count": 1,
   "metadata": {
    "colab": {
     "base_uri": "https://localhost:8080/"
    },
    "id": "RFNO9gc1Jkx2",
    "outputId": "2c4c0dbc-2a16-4c49-f749-6f3b13c12698"
   },
   "outputs": [
    {
     "name": "stdout",
     "output_type": "stream",
     "text": [
      "Collecting mesa\n",
      "  Downloading mesa-3.0.3-py3-none-any.whl.metadata (9.8 kB)\n",
      "Requirement already satisfied: numpy in /usr/local/lib/python3.10/dist-packages (1.26.4)\n",
      "Collecting scapy\n",
      "  Downloading scapy-2.6.1-py3-none-any.whl.metadata (5.6 kB)\n",
      "Requirement already satisfied: pandas in /usr/local/lib/python3.10/dist-packages (2.2.2)\n",
      "Requirement already satisfied: matplotlib in /usr/local/lib/python3.10/dist-packages (3.8.0)\n",
      "Requirement already satisfied: tqdm in /usr/local/lib/python3.10/dist-packages (from mesa) (4.66.6)\n",
      "Requirement already satisfied: python-dateutil>=2.8.2 in /usr/local/lib/python3.10/dist-packages (from pandas) (2.8.2)\n",
      "Requirement already satisfied: pytz>=2020.1 in /usr/local/lib/python3.10/dist-packages (from pandas) (2024.2)\n",
      "Requirement already satisfied: tzdata>=2022.7 in /usr/local/lib/python3.10/dist-packages (from pandas) (2024.2)\n",
      "Requirement already satisfied: contourpy>=1.0.1 in /usr/local/lib/python3.10/dist-packages (from matplotlib) (1.3.1)\n",
      "Requirement already satisfied: cycler>=0.10 in /usr/local/lib/python3.10/dist-packages (from matplotlib) (0.12.1)\n",
      "Requirement already satisfied: fonttools>=4.22.0 in /usr/local/lib/python3.10/dist-packages (from matplotlib) (4.55.0)\n",
      "Requirement already satisfied: kiwisolver>=1.0.1 in /usr/local/lib/python3.10/dist-packages (from matplotlib) (1.4.7)\n",
      "Requirement already satisfied: packaging>=20.0 in /usr/local/lib/python3.10/dist-packages (from matplotlib) (24.2)\n",
      "Requirement already satisfied: pillow>=6.2.0 in /usr/local/lib/python3.10/dist-packages (from matplotlib) (11.0.0)\n",
      "Requirement already satisfied: pyparsing>=2.3.1 in /usr/local/lib/python3.10/dist-packages (from matplotlib) (3.2.0)\n",
      "Requirement already satisfied: six>=1.5 in /usr/local/lib/python3.10/dist-packages (from python-dateutil>=2.8.2->pandas) (1.16.0)\n",
      "Downloading mesa-3.0.3-py3-none-any.whl (226 kB)\n",
      "\u001b[2K   \u001b[90m━━━━━━━━━━━━━━━━━━━━━━━━━━━━━━━━━━━━━━━━\u001b[0m \u001b[32m226.5/226.5 kB\u001b[0m \u001b[31m14.9 MB/s\u001b[0m eta \u001b[36m0:00:00\u001b[0m\n",
      "\u001b[?25hDownloading scapy-2.6.1-py3-none-any.whl (2.4 MB)\n",
      "\u001b[2K   \u001b[90m━━━━━━━━━━━━━━━━━━━━━━━━━━━━━━━━━━━━━━━━\u001b[0m \u001b[32m2.4/2.4 MB\u001b[0m \u001b[31m75.6 MB/s\u001b[0m eta \u001b[36m0:00:00\u001b[0m\n",
      "\u001b[?25hInstalling collected packages: scapy, mesa\n",
      "Successfully installed mesa-3.0.3 scapy-2.6.1\n",
      "Reading package lists... Done\n",
      "Building dependency tree... Done\n",
      "Reading state information... Done\n",
      "The following additional packages will be installed:\n",
      "  cgroup-tools iperf libcgroup1 libpcap0.8 libunbound8 libwrap0 net-tools\n",
      "  netbase openvswitch-common openvswitch-switch python3-netifaces\n",
      "  python3-openvswitch python3-sortedcontainers socat telnet uuid-runtime\n",
      "Suggested packages:\n",
      "  ethtool openvswitch-doc python-sortedcontainers-doc\n",
      "The following NEW packages will be installed:\n",
      "  cgroup-tools iperf libcgroup1 libpcap0.8 libunbound8 libwrap0 mininet\n",
      "  net-tools netbase openvswitch-common openvswitch-switch python3-netifaces\n",
      "  python3-openvswitch python3-sortedcontainers socat tcpreplay telnet\n",
      "  uuid-runtime\n",
      "0 upgraded, 18 newly installed, 0 to remove and 49 not upgraded.\n",
      "Need to get 4,536 kB of archives.\n",
      "After this operation, 16.1 MB of additional disk space will be used.\n",
      "Get:1 http://archive.ubuntu.com/ubuntu jammy-updates/main amd64 uuid-runtime amd64 2.37.2-4ubuntu3.4 [32.0 kB]\n",
      "Get:2 http://archive.ubuntu.com/ubuntu jammy/main amd64 netbase all 6.3 [12.9 kB]\n",
      "Get:3 http://archive.ubuntu.com/ubuntu jammy/main amd64 python3-netifaces amd64 0.11.0-1build2 [18.3 kB]\n",
      "Get:4 http://archive.ubuntu.com/ubuntu jammy-updates/main amd64 libpcap0.8 amd64 1.10.1-4ubuntu1.22.04.1 [145 kB]\n",
      "Get:5 http://archive.ubuntu.com/ubuntu jammy/main amd64 telnet amd64 0.17-44build1 [66.9 kB]\n",
      "Get:6 http://archive.ubuntu.com/ubuntu jammy/universe amd64 libcgroup1 amd64 2.0-2 [49.8 kB]\n",
      "Get:7 http://archive.ubuntu.com/ubuntu jammy/universe amd64 cgroup-tools amd64 2.0-2 [70.8 kB]\n",
      "Get:8 http://archive.ubuntu.com/ubuntu jammy/universe amd64 iperf amd64 2.1.5+dfsg1-1 [121 kB]\n",
      "Get:9 http://archive.ubuntu.com/ubuntu jammy-updates/main amd64 libunbound8 amd64 1.13.1-1ubuntu5.8 [400 kB]\n",
      "Get:10 http://archive.ubuntu.com/ubuntu jammy/main amd64 libwrap0 amd64 7.6.q-31build2 [47.9 kB]\n",
      "Get:11 http://archive.ubuntu.com/ubuntu jammy/main amd64 net-tools amd64 1.60+git20181103.0eebece-1ubuntu5 [204 kB]\n",
      "Get:12 http://archive.ubuntu.com/ubuntu jammy/main amd64 python3-sortedcontainers all 2.1.0-2 [27.3 kB]\n",
      "Get:13 http://archive.ubuntu.com/ubuntu jammy/universe amd64 tcpreplay amd64 4.3.4-1 [321 kB]\n",
      "Get:14 http://archive.ubuntu.com/ubuntu jammy/main amd64 socat amd64 1.7.4.1-3ubuntu4 [349 kB]\n",
      "Get:15 http://archive.ubuntu.com/ubuntu jammy/universe amd64 mininet amd64 2.3.0-1ubuntu1 [132 kB]\n",
      "Get:16 http://archive.ubuntu.com/ubuntu jammy-updates/main amd64 openvswitch-common amd64 2.17.9-0ubuntu0.22.04.1 [923 kB]\n",
      "Get:17 http://archive.ubuntu.com/ubuntu jammy-updates/main amd64 python3-openvswitch all 2.17.9-0ubuntu0.22.04.1 [90.1 kB]\n",
      "Get:18 http://archive.ubuntu.com/ubuntu jammy-updates/main amd64 openvswitch-switch amd64 2.17.9-0ubuntu0.22.04.1 [1,524 kB]\n",
      "Fetched 4,536 kB in 0s (14.9 MB/s)\n",
      "debconf: unable to initialize frontend: Dialog\n",
      "debconf: (No usable dialog-like program is installed, so the dialog based frontend cannot be used. at /usr/share/perl5/Debconf/FrontEnd/Dialog.pm line 78, <> line 18.)\n",
      "debconf: falling back to frontend: Readline\n",
      "debconf: unable to initialize frontend: Readline\n",
      "debconf: (This frontend requires a controlling tty.)\n",
      "debconf: falling back to frontend: Teletype\n",
      "dpkg-preconfigure: unable to re-open stdin: \n",
      "Selecting previously unselected package uuid-runtime.\n",
      "(Reading database ... 123632 files and directories currently installed.)\n",
      "Preparing to unpack .../00-uuid-runtime_2.37.2-4ubuntu3.4_amd64.deb ...\n",
      "Unpacking uuid-runtime (2.37.2-4ubuntu3.4) ...\n",
      "Selecting previously unselected package netbase.\n",
      "Preparing to unpack .../01-netbase_6.3_all.deb ...\n",
      "Unpacking netbase (6.3) ...\n",
      "Selecting previously unselected package python3-netifaces:amd64.\n",
      "Preparing to unpack .../02-python3-netifaces_0.11.0-1build2_amd64.deb ...\n",
      "Unpacking python3-netifaces:amd64 (0.11.0-1build2) ...\n",
      "Selecting previously unselected package libpcap0.8:amd64.\n",
      "Preparing to unpack .../03-libpcap0.8_1.10.1-4ubuntu1.22.04.1_amd64.deb ...\n",
      "Unpacking libpcap0.8:amd64 (1.10.1-4ubuntu1.22.04.1) ...\n",
      "Selecting previously unselected package telnet.\n",
      "Preparing to unpack .../04-telnet_0.17-44build1_amd64.deb ...\n",
      "Unpacking telnet (0.17-44build1) ...\n",
      "Selecting previously unselected package libcgroup1:amd64.\n",
      "Preparing to unpack .../05-libcgroup1_2.0-2_amd64.deb ...\n",
      "Unpacking libcgroup1:amd64 (2.0-2) ...\n",
      "Selecting previously unselected package cgroup-tools.\n",
      "Preparing to unpack .../06-cgroup-tools_2.0-2_amd64.deb ...\n",
      "Unpacking cgroup-tools (2.0-2) ...\n",
      "Selecting previously unselected package iperf.\n",
      "Preparing to unpack .../07-iperf_2.1.5+dfsg1-1_amd64.deb ...\n",
      "Unpacking iperf (2.1.5+dfsg1-1) ...\n",
      "Selecting previously unselected package libunbound8:amd64.\n",
      "Preparing to unpack .../08-libunbound8_1.13.1-1ubuntu5.8_amd64.deb ...\n",
      "Unpacking libunbound8:amd64 (1.13.1-1ubuntu5.8) ...\n",
      "Selecting previously unselected package libwrap0:amd64.\n",
      "Preparing to unpack .../09-libwrap0_7.6.q-31build2_amd64.deb ...\n",
      "Unpacking libwrap0:amd64 (7.6.q-31build2) ...\n",
      "Selecting previously unselected package net-tools.\n",
      "Preparing to unpack .../10-net-tools_1.60+git20181103.0eebece-1ubuntu5_amd64.deb ...\n",
      "Unpacking net-tools (1.60+git20181103.0eebece-1ubuntu5) ...\n",
      "Selecting previously unselected package python3-sortedcontainers.\n",
      "Preparing to unpack .../11-python3-sortedcontainers_2.1.0-2_all.deb ...\n",
      "Unpacking python3-sortedcontainers (2.1.0-2) ...\n",
      "Selecting previously unselected package tcpreplay.\n",
      "Preparing to unpack .../12-tcpreplay_4.3.4-1_amd64.deb ...\n",
      "Unpacking tcpreplay (4.3.4-1) ...\n",
      "Selecting previously unselected package socat.\n",
      "Preparing to unpack .../13-socat_1.7.4.1-3ubuntu4_amd64.deb ...\n",
      "Unpacking socat (1.7.4.1-3ubuntu4) ...\n",
      "Selecting previously unselected package mininet.\n",
      "Preparing to unpack .../14-mininet_2.3.0-1ubuntu1_amd64.deb ...\n",
      "Unpacking mininet (2.3.0-1ubuntu1) ...\n",
      "Selecting previously unselected package openvswitch-common.\n",
      "Preparing to unpack .../15-openvswitch-common_2.17.9-0ubuntu0.22.04.1_amd64.deb ...\n",
      "Unpacking openvswitch-common (2.17.9-0ubuntu0.22.04.1) ...\n",
      "Selecting previously unselected package python3-openvswitch.\n",
      "Preparing to unpack .../16-python3-openvswitch_2.17.9-0ubuntu0.22.04.1_all.deb ...\n",
      "Unpacking python3-openvswitch (2.17.9-0ubuntu0.22.04.1) ...\n",
      "Selecting previously unselected package openvswitch-switch.\n",
      "Preparing to unpack .../17-openvswitch-switch_2.17.9-0ubuntu0.22.04.1_amd64.deb ...\n",
      "Unpacking openvswitch-switch (2.17.9-0ubuntu0.22.04.1) ...\n",
      "Setting up net-tools (1.60+git20181103.0eebece-1ubuntu5) ...\n",
      "Setting up python3-sortedcontainers (2.1.0-2) ...\n",
      "Setting up python3-openvswitch (2.17.9-0ubuntu0.22.04.1) ...\n",
      "Setting up libunbound8:amd64 (1.13.1-1ubuntu5.8) ...\n",
      "Setting up iperf (2.1.5+dfsg1-1) ...\n",
      "Setting up libpcap0.8:amd64 (1.10.1-4ubuntu1.22.04.1) ...\n",
      "Setting up libwrap0:amd64 (7.6.q-31build2) ...\n",
      "Setting up socat (1.7.4.1-3ubuntu4) ...\n",
      "Setting up tcpreplay (4.3.4-1) ...\n",
      "Setting up python3-netifaces:amd64 (0.11.0-1build2) ...\n",
      "Setting up uuid-runtime (2.37.2-4ubuntu3.4) ...\n",
      "Adding group `uuidd' (GID 107) ...\n",
      "Done.\n",
      "Warning: The home dir /run/uuidd you specified can't be accessed: No such file or directory\n",
      "Adding system user `uuidd' (UID 104) ...\n",
      "Adding new user `uuidd' (UID 104) with group `uuidd' ...\n",
      "Not creating home directory `/run/uuidd'.\n",
      "invoke-rc.d: could not determine current runlevel\n",
      "invoke-rc.d: policy-rc.d denied execution of start.\n",
      "Created symlink /etc/systemd/system/sockets.target.wants/uuidd.socket → /lib/systemd/system/uuidd.socket.\n",
      "Setting up openvswitch-common (2.17.9-0ubuntu0.22.04.1) ...\n",
      "Setting up netbase (6.3) ...\n",
      "Setting up libcgroup1:amd64 (2.0-2) ...\n",
      "Setting up openvswitch-switch (2.17.9-0ubuntu0.22.04.1) ...\n",
      "update-alternatives: using /usr/lib/openvswitch-switch/ovs-vswitchd to provide /usr/sbin/ovs-vswitchd (ovs-vswitchd) in auto mode\n",
      "Created symlink /etc/systemd/system/multi-user.target.wants/openvswitch-switch.service → /lib/systemd/system/openvswitch-switch.service.\n",
      "Created symlink /etc/systemd/system/openvswitch-switch.service.requires/ovs-record-hostname.service → /lib/systemd/system/ovs-record-hostname.service.\n",
      "invoke-rc.d: could not determine current runlevel\n",
      "invoke-rc.d: policy-rc.d denied execution of start.\n",
      "Setting up telnet (0.17-44build1) ...\n",
      "update-alternatives: using /usr/bin/telnet.netkit to provide /usr/bin/telnet (telnet) in auto mode\n",
      "Setting up cgroup-tools (2.0-2) ...\n",
      "Setting up mininet (2.3.0-1ubuntu1) ...\n",
      "Processing triggers for man-db (2.10.2-1) ...\n",
      "Processing triggers for libc-bin (2.35-0ubuntu3.4) ...\n",
      "/sbin/ldconfig.real: /usr/local/lib/libtbbbind_2_0.so.3 is not a symbolic link\n",
      "\n",
      "/sbin/ldconfig.real: /usr/local/lib/libtbbmalloc_proxy.so.2 is not a symbolic link\n",
      "\n",
      "/sbin/ldconfig.real: /usr/local/lib/libtbbbind_2_5.so.3 is not a symbolic link\n",
      "\n",
      "/sbin/ldconfig.real: /usr/local/lib/libumf.so.0 is not a symbolic link\n",
      "\n",
      "/sbin/ldconfig.real: /usr/local/lib/libur_adapter_level_zero.so.0 is not a symbolic link\n",
      "\n",
      "/sbin/ldconfig.real: /usr/local/lib/libur_loader.so.0 is not a symbolic link\n",
      "\n",
      "/sbin/ldconfig.real: /usr/local/lib/libtbb.so.12 is not a symbolic link\n",
      "\n",
      "/sbin/ldconfig.real: /usr/local/lib/libtcm_debug.so.1 is not a symbolic link\n",
      "\n",
      "/sbin/ldconfig.real: /usr/local/lib/libtbbmalloc.so.2 is not a symbolic link\n",
      "\n",
      "/sbin/ldconfig.real: /usr/local/lib/libhwloc.so.15 is not a symbolic link\n",
      "\n",
      "/sbin/ldconfig.real: /usr/local/lib/libtcm.so.1 is not a symbolic link\n",
      "\n",
      "/sbin/ldconfig.real: /usr/local/lib/libtbbbind.so.3 is not a symbolic link\n",
      "\n",
      "/sbin/ldconfig.real: /usr/local/lib/libur_adapter_opencl.so.0 is not a symbolic link\n",
      "\n"
     ]
    }
   ],
   "source": [
    "!pip install mesa numpy scapy pandas matplotlib\n",
    "!sudo apt-get install mininet tcpreplay"
   ]
  },
  {
   "cell_type": "code",
   "execution_count": 11,
   "metadata": {
    "colab": {
     "base_uri": "https://localhost:8080/"
    },
    "id": "mjtiG754KJ7S",
    "outputId": "c40ef551-70d8-4665-9e99-1894e1cedc7b"
   },
   "outputs": [
    {
     "name": "stdout",
     "output_type": "stream",
     "text": [
      "[{'node': 0, 'type': 'malicious'}, {'node': 2, 'type': 'normal'}, {'node': 4, 'type': 'normal'}, {'node': 9, 'type': 'normal'}, {'node': 6, 'type': 'normal'}, {'node': 3, 'type': 'normal'}, {'node': 5, 'type': 'normal'}, {'node': 1, 'type': 'malicious'}, {'node': 7, 'type': 'normal'}, {'node': 8, 'type': 'normal'}]\n",
      "[{'node': 7, 'type': 'normal'}, {'node': 2, 'type': 'normal'}, {'node': 5, 'type': 'normal'}, {'node': 9, 'type': 'normal'}, {'node': 3, 'type': 'normal'}, {'node': 4, 'type': 'normal'}, {'node': 0, 'type': 'malicious'}, {'node': 1, 'type': 'malicious'}, {'node': 6, 'type': 'normal'}, {'node': 8, 'type': 'normal'}]\n",
      "[{'node': 9, 'type': 'normal'}, {'node': 1, 'type': 'malicious'}, {'node': 4, 'type': 'normal'}, {'node': 6, 'type': 'normal'}, {'node': 5, 'type': 'normal'}, {'node': 2, 'type': 'normal'}, {'node': 8, 'type': 'normal'}, {'node': 7, 'type': 'normal'}, {'node': 3, 'type': 'normal'}, {'node': 0, 'type': 'malicious'}]\n",
      "[{'node': 8, 'type': 'normal'}, {'node': 2, 'type': 'normal'}, {'node': 4, 'type': 'normal'}, {'node': 7, 'type': 'normal'}, {'node': 9, 'type': 'normal'}, {'node': 3, 'type': 'normal'}, {'node': 5, 'type': 'normal'}, {'node': 6, 'type': 'normal'}, {'node': 1, 'type': 'malicious'}, {'node': 0, 'type': 'malicious'}]\n",
      "[{'node': 3, 'type': 'normal'}, {'node': 1, 'type': 'malicious'}, {'node': 9, 'type': 'normal'}, {'node': 7, 'type': 'normal'}, {'node': 4, 'type': 'normal'}, {'node': 0, 'type': 'malicious'}, {'node': 2, 'type': 'normal'}, {'node': 5, 'type': 'normal'}, {'node': 6, 'type': 'normal'}, {'node': 8, 'type': 'normal'}]\n"
     ]
    },
    {
     "name": "stderr",
     "output_type": "stream",
     "text": [
      "<ipython-input-10-d310ab926bc6>:25: DeprecationWarning: The time module and all its Schedulers are deprecated and will be removed in Mesa 3.1. They can be replaced with AgentSet functionality. See the migration guide for details. https://mesa.readthedocs.io/latest/migration_guide.html#time-and-schedulers\n",
      "  self.schedule = RandomActivation(self)\n"
     ]
    }
   ],
   "source": [
    "model = NetworkModel(n_nodes=10, n_malicious=2)\n",
    "for i in range(5):\n",
    "    model.step()\n",
    "    print(model.traffic)\n"
   ]
  },
  {
   "cell_type": "code",
   "execution_count": 12,
   "metadata": {
    "id": "K6QUZn-2PkU3"
   },
   "outputs": [],
   "source": [
    "import numpy as np\n",
    "\n",
    "transition_matrix = np.array([\n",
    "    [0.7, 0.2, 0.1],  # Normal to (Normal, Suspicious, Malicious)\n",
    "    [0.4, 0.5, 0.1],  # Suspicious to (Normal, Suspicious, Malicious)\n",
    "    [0.1, 0.3, 0.6]   # Malicious to (Normal, Suspicious, Malicious)\n",
    "])\n",
    "\n",
    "def next_state(current_state, transition_matrix):\n",
    "    return np.random.choice([0, 1, 2], p=transition_matrix[current_state])\n",
    "\n",
    "def generate_states(initial_state, steps, transition_matrix):\n",
    "    states = [initial_state]\n",
    "    for _ in range(steps - 1):\n",
    "        states.append(next_state(states[-1], transition_matrix))\n",
    "    return states\n"
   ]
  },
  {
   "cell_type": "code",
   "execution_count": 14,
   "metadata": {
    "id": "KCMpGxO_KEND"
   },
   "outputs": [],
   "source": [
    "from mesa import Model\n",
    "from mesa.agent import Agent\n",
    "from mesa.time import RandomActivation\n",
    "from mesa.space import SingleGrid\n",
    "import random\n",
    "\n",
    "class NetworkNode(Agent):\n",
    "    def __init__(self, unique_id, model, is_malicious=False):\n",
    "        super().__init__(model)\n",
    "        self.unique_id = unique_id\n",
    "        self.is_malicious = is_malicious\n",
    "\n",
    "    def step(self):\n",
    "        self.state = next_state(self.state, self.model.transition_matrix)\n",
    "        traffic_type = [\"normal\", \"suspicious\", \"malicious\"][self.state]\n",
    "        self.model.traffic.append({\"node\": self.unique_id, \"type\": traffic_type})\n",
    "\n",
    "class NetworkModel(Model):\n",
    "    def __init__(self, n_nodes, n_malicious, transition_matrix):\n",
    "        super().__init__()  # Initialize the Model base class\n",
    "        self.n_nodes = n_nodes\n",
    "        self.n_malicious = n_malicious\n",
    "        self.random = random.Random()\n",
    "        self.schedule = RandomActivation(self)\n",
    "        self.transition_matrix = transition_matrix\n",
    "        self.grid = SingleGrid(10, 10, torus=False)\n",
    "        self.traffic = []\n",
    "\n",
    "        # Add nodes\n",
    "        for i in range(n_nodes):\n",
    "            is_malicious = i < n_malicious\n",
    "            node = NetworkNode(i, self, is_malicious)\n",
    "            self.schedule.add(node)\n",
    "\n",
    "    def step(self):\n",
    "        self.traffic = []\n",
    "        self.schedule.step()\n"
   ]
  },
  {
   "cell_type": "code",
   "execution_count": 16,
   "metadata": {
    "colab": {
     "base_uri": "https://localhost:8080/",
     "height": 153
    },
    "id": "bXQqwJnlQhfM",
    "outputId": "f0fc3ead-bb50-4060-cda1-7e7bf6af04e7"
   },
   "outputs": [
    {
     "ename": "NameError",
     "evalue": "name 'topo' is not defined",
     "output_type": "error",
     "traceback": [
      "\u001b[0;31m---------------------------------------------------------------------------\u001b[0m",
      "\u001b[0;31mNameError\u001b[0m                                 Traceback (most recent call last)",
      "\u001b[0;32m<ipython-input-16-7e98ddeb4fc5>\u001b[0m in \u001b[0;36m<cell line: 2>\u001b[0;34m()\u001b[0m\n\u001b[1;32m      1\u001b[0m \u001b[0;32mfrom\u001b[0m \u001b[0mmininet\u001b[0m\u001b[0;34m.\u001b[0m\u001b[0mnode\u001b[0m \u001b[0;32mimport\u001b[0m \u001b[0mOVSController\u001b[0m\u001b[0;34m\u001b[0m\u001b[0;34m\u001b[0m\u001b[0m\n\u001b[0;32m----> 2\u001b[0;31m \u001b[0mnet\u001b[0m \u001b[0;34m=\u001b[0m \u001b[0mMininet\u001b[0m\u001b[0;34m(\u001b[0m\u001b[0mtopo\u001b[0m\u001b[0;34m=\u001b[0m\u001b[0mtopo\u001b[0m\u001b[0;34m,\u001b[0m\u001b[0mhost\u001b[0m\u001b[0;34m=\u001b[0m\u001b[0mCPULimitedHost\u001b[0m\u001b[0;34m,\u001b[0m \u001b[0mlink\u001b[0m\u001b[0;34m=\u001b[0m\u001b[0mTCLink\u001b[0m\u001b[0;34m,\u001b[0m\u001b[0mcontroller\u001b[0m \u001b[0;34m=\u001b[0m \u001b[0mOVSController\u001b[0m\u001b[0;34m)\u001b[0m\u001b[0;34m\u001b[0m\u001b[0;34m\u001b[0m\u001b[0m\n\u001b[0m",
      "\u001b[0;31mNameError\u001b[0m: name 'topo' is not defined"
     ]
    }
   ],
   "source": [
    "from mininet.node import OVSController\n"
   ]
  },
  {
   "cell_type": "code",
   "execution_count": 26,
   "metadata": {
    "colab": {
     "base_uri": "https://localhost:8080/",
     "height": 557
    },
    "id": "M77p8LVeQMD5",
    "outputId": "eb94dea3-4a62-4132-f4c4-db2e4728cbaa"
   },
   "outputs": [
    {
     "name": "stderr",
     "output_type": "stream",
     "text": [
      "Unable to contact the remote controller at 127.0.0.1:6653\n",
      "WARNING:mininet:Unable to contact the remote controller at 127.0.0.1:6653\n",
      "\n",
      "Unable to contact the remote controller at 127.0.0.1:6633\n",
      "WARNING:mininet:Unable to contact the remote controller at 127.0.0.1:6633\n",
      "\n",
      "Setting remote controller to 127.0.0.1:6653\n",
      "WARNING:mininet:Setting remote controller to 127.0.0.1:6653\n",
      "\n",
      "Error setting lo up: SIOCSIFFLAGS: Operation not permitted\n",
      " ERROR:mininet:Error setting lo up: SIOCSIFFLAGS: Operation not permitted\n",
      " \n"
     ]
    },
    {
     "ename": "Exception",
     "evalue": "Error creating interface pair (h1-eth0,s1-eth1): RTNETLINK answers: Operation not permitted\r\n ",
     "output_type": "error",
     "traceback": [
      "\u001b[0;31m---------------------------------------------------------------------------\u001b[0m",
      "\u001b[0;31mException\u001b[0m                                 Traceback (most recent call last)",
      "\u001b[0;32m<ipython-input-26-c4fa543c6cd5>\u001b[0m in \u001b[0;36m<cell line: 14>\u001b[0;34m()\u001b[0m\n\u001b[1;32m     12\u001b[0m         \u001b[0mself\u001b[0m\u001b[0;34m.\u001b[0m\u001b[0maddLink\u001b[0m\u001b[0;34m(\u001b[0m\u001b[0mh2\u001b[0m\u001b[0;34m,\u001b[0m \u001b[0mswitch\u001b[0m\u001b[0;34m)\u001b[0m\u001b[0;34m\u001b[0m\u001b[0;34m\u001b[0m\u001b[0m\n\u001b[1;32m     13\u001b[0m \u001b[0;34m\u001b[0m\u001b[0m\n\u001b[0;32m---> 14\u001b[0;31m \u001b[0mnet\u001b[0m \u001b[0;34m=\u001b[0m \u001b[0mMininet\u001b[0m\u001b[0;34m(\u001b[0m\u001b[0mtopo\u001b[0m\u001b[0;34m=\u001b[0m\u001b[0mSimpleTopo\u001b[0m\u001b[0;34m(\u001b[0m\u001b[0;34m)\u001b[0m\u001b[0;34m,\u001b[0m \u001b[0mlink\u001b[0m\u001b[0;34m=\u001b[0m\u001b[0mTCLink\u001b[0m\u001b[0;34m,\u001b[0m \u001b[0mcontroller\u001b[0m \u001b[0;34m=\u001b[0m \u001b[0mRemoteController\u001b[0m\u001b[0;34m)\u001b[0m\u001b[0;34m\u001b[0m\u001b[0;34m\u001b[0m\u001b[0m\n\u001b[0m\u001b[1;32m     15\u001b[0m \u001b[0;31m# net = Mininet(topo=SimpleTopo())\u001b[0m\u001b[0;34m\u001b[0m\u001b[0;34m\u001b[0m\u001b[0m\n\u001b[1;32m     16\u001b[0m \u001b[0mnet\u001b[0m\u001b[0;34m.\u001b[0m\u001b[0mstart\u001b[0m\u001b[0;34m(\u001b[0m\u001b[0;34m)\u001b[0m\u001b[0;34m\u001b[0m\u001b[0;34m\u001b[0m\u001b[0m\n",
      "\u001b[0;32m/usr/lib/python3/dist-packages/mininet/net.py\u001b[0m in \u001b[0;36m__init__\u001b[0;34m(self, topo, switch, host, controller, link, intf, build, xterms, cleanup, ipBase, inNamespace, autoSetMacs, autoStaticArp, autoPinCpus, listenPort, waitConnected)\u001b[0m\n\u001b[1;32m    176\u001b[0m         \u001b[0mself\u001b[0m\u001b[0;34m.\u001b[0m\u001b[0mbuilt\u001b[0m \u001b[0;34m=\u001b[0m \u001b[0;32mFalse\u001b[0m\u001b[0;34m\u001b[0m\u001b[0;34m\u001b[0m\u001b[0m\n\u001b[1;32m    177\u001b[0m         \u001b[0;32mif\u001b[0m \u001b[0mtopo\u001b[0m \u001b[0;32mand\u001b[0m \u001b[0mbuild\u001b[0m\u001b[0;34m:\u001b[0m\u001b[0;34m\u001b[0m\u001b[0;34m\u001b[0m\u001b[0m\n\u001b[0;32m--> 178\u001b[0;31m             \u001b[0mself\u001b[0m\u001b[0;34m.\u001b[0m\u001b[0mbuild\u001b[0m\u001b[0;34m(\u001b[0m\u001b[0;34m)\u001b[0m\u001b[0;34m\u001b[0m\u001b[0;34m\u001b[0m\u001b[0m\n\u001b[0m\u001b[1;32m    179\u001b[0m \u001b[0;34m\u001b[0m\u001b[0m\n\u001b[1;32m    180\u001b[0m     \u001b[0;32mdef\u001b[0m \u001b[0mwaitConnected\u001b[0m\u001b[0;34m(\u001b[0m \u001b[0mself\u001b[0m\u001b[0;34m,\u001b[0m \u001b[0mtimeout\u001b[0m\u001b[0;34m=\u001b[0m\u001b[0;32mNone\u001b[0m\u001b[0;34m,\u001b[0m \u001b[0mdelay\u001b[0m\u001b[0;34m=\u001b[0m\u001b[0;36m.5\u001b[0m \u001b[0;34m)\u001b[0m\u001b[0;34m:\u001b[0m\u001b[0;34m\u001b[0m\u001b[0;34m\u001b[0m\u001b[0m\n",
      "\u001b[0;32m/usr/lib/python3/dist-packages/mininet/net.py\u001b[0m in \u001b[0;36mbuild\u001b[0;34m(self)\u001b[0m\n\u001b[1;32m    506\u001b[0m         \u001b[0;34m\"Build mininet.\"\u001b[0m\u001b[0;34m\u001b[0m\u001b[0;34m\u001b[0m\u001b[0m\n\u001b[1;32m    507\u001b[0m         \u001b[0;32mif\u001b[0m \u001b[0mself\u001b[0m\u001b[0;34m.\u001b[0m\u001b[0mtopo\u001b[0m\u001b[0;34m:\u001b[0m\u001b[0;34m\u001b[0m\u001b[0;34m\u001b[0m\u001b[0m\n\u001b[0;32m--> 508\u001b[0;31m             \u001b[0mself\u001b[0m\u001b[0;34m.\u001b[0m\u001b[0mbuildFromTopo\u001b[0m\u001b[0;34m(\u001b[0m \u001b[0mself\u001b[0m\u001b[0;34m.\u001b[0m\u001b[0mtopo\u001b[0m \u001b[0;34m)\u001b[0m\u001b[0;34m\u001b[0m\u001b[0;34m\u001b[0m\u001b[0m\n\u001b[0m\u001b[1;32m    509\u001b[0m         \u001b[0;32mif\u001b[0m \u001b[0mself\u001b[0m\u001b[0;34m.\u001b[0m\u001b[0minNamespace\u001b[0m\u001b[0;34m:\u001b[0m\u001b[0;34m\u001b[0m\u001b[0;34m\u001b[0m\u001b[0m\n\u001b[1;32m    510\u001b[0m             \u001b[0mself\u001b[0m\u001b[0;34m.\u001b[0m\u001b[0mconfigureControlNetwork\u001b[0m\u001b[0;34m(\u001b[0m\u001b[0;34m)\u001b[0m\u001b[0;34m\u001b[0m\u001b[0;34m\u001b[0m\u001b[0m\n",
      "\u001b[0;32m/usr/lib/python3/dist-packages/mininet/net.py\u001b[0m in \u001b[0;36mbuildFromTopo\u001b[0;34m(self, topo)\u001b[0m\n\u001b[1;32m    493\u001b[0m         for srcName, dstName, params in topo.links(\n\u001b[1;32m    494\u001b[0m                 sort=True, withInfo=True ):\n\u001b[0;32m--> 495\u001b[0;31m             \u001b[0mself\u001b[0m\u001b[0;34m.\u001b[0m\u001b[0maddLink\u001b[0m\u001b[0;34m(\u001b[0m \u001b[0;34m**\u001b[0m\u001b[0mparams\u001b[0m \u001b[0;34m)\u001b[0m\u001b[0;34m\u001b[0m\u001b[0;34m\u001b[0m\u001b[0m\n\u001b[0m\u001b[1;32m    496\u001b[0m             \u001b[0minfo\u001b[0m\u001b[0;34m(\u001b[0m \u001b[0;34m'(%s, %s) '\u001b[0m \u001b[0;34m%\u001b[0m \u001b[0;34m(\u001b[0m \u001b[0msrcName\u001b[0m\u001b[0;34m,\u001b[0m \u001b[0mdstName\u001b[0m \u001b[0;34m)\u001b[0m \u001b[0;34m)\u001b[0m\u001b[0;34m\u001b[0m\u001b[0;34m\u001b[0m\u001b[0m\n\u001b[1;32m    497\u001b[0m \u001b[0;34m\u001b[0m\u001b[0m\n",
      "\u001b[0;32m/usr/lib/python3/dist-packages/mininet/net.py\u001b[0m in \u001b[0;36maddLink\u001b[0;34m(self, node1, node2, port1, port2, cls, **params)\u001b[0m\n\u001b[1;32m    404\u001b[0m         \u001b[0moptions\u001b[0m\u001b[0;34m.\u001b[0m\u001b[0msetdefault\u001b[0m\u001b[0;34m(\u001b[0m \u001b[0;34m'addr2'\u001b[0m\u001b[0;34m,\u001b[0m \u001b[0mself\u001b[0m\u001b[0;34m.\u001b[0m\u001b[0mrandMac\u001b[0m\u001b[0;34m(\u001b[0m\u001b[0;34m)\u001b[0m \u001b[0;34m)\u001b[0m\u001b[0;34m\u001b[0m\u001b[0;34m\u001b[0m\u001b[0m\n\u001b[1;32m    405\u001b[0m         \u001b[0mcls\u001b[0m \u001b[0;34m=\u001b[0m \u001b[0mself\u001b[0m\u001b[0;34m.\u001b[0m\u001b[0mlink\u001b[0m \u001b[0;32mif\u001b[0m \u001b[0mcls\u001b[0m \u001b[0;32mis\u001b[0m \u001b[0;32mNone\u001b[0m \u001b[0;32melse\u001b[0m \u001b[0mcls\u001b[0m\u001b[0;34m\u001b[0m\u001b[0;34m\u001b[0m\u001b[0m\n\u001b[0;32m--> 406\u001b[0;31m         \u001b[0mlink\u001b[0m \u001b[0;34m=\u001b[0m \u001b[0mcls\u001b[0m\u001b[0;34m(\u001b[0m \u001b[0mnode1\u001b[0m\u001b[0;34m,\u001b[0m \u001b[0mnode2\u001b[0m\u001b[0;34m,\u001b[0m \u001b[0;34m**\u001b[0m\u001b[0moptions\u001b[0m \u001b[0;34m)\u001b[0m\u001b[0;34m\u001b[0m\u001b[0;34m\u001b[0m\u001b[0m\n\u001b[0m\u001b[1;32m    407\u001b[0m         \u001b[0mself\u001b[0m\u001b[0;34m.\u001b[0m\u001b[0mlinks\u001b[0m\u001b[0;34m.\u001b[0m\u001b[0mappend\u001b[0m\u001b[0;34m(\u001b[0m \u001b[0mlink\u001b[0m \u001b[0;34m)\u001b[0m\u001b[0;34m\u001b[0m\u001b[0;34m\u001b[0m\u001b[0m\n\u001b[1;32m    408\u001b[0m         \u001b[0;32mreturn\u001b[0m \u001b[0mlink\u001b[0m\u001b[0;34m\u001b[0m\u001b[0;34m\u001b[0m\u001b[0m\n",
      "\u001b[0;32m/usr/lib/python3/dist-packages/mininet/link.py\u001b[0m in \u001b[0;36m__init__\u001b[0;34m(self, *args, **kwargs)\u001b[0m\n\u001b[1;32m    566\u001b[0m         \u001b[0mkwargs\u001b[0m\u001b[0;34m.\u001b[0m\u001b[0msetdefault\u001b[0m\u001b[0;34m(\u001b[0m \u001b[0;34m'cls1'\u001b[0m\u001b[0;34m,\u001b[0m \u001b[0mTCIntf\u001b[0m \u001b[0;34m)\u001b[0m\u001b[0;34m\u001b[0m\u001b[0;34m\u001b[0m\u001b[0m\n\u001b[1;32m    567\u001b[0m         \u001b[0mkwargs\u001b[0m\u001b[0;34m.\u001b[0m\u001b[0msetdefault\u001b[0m\u001b[0;34m(\u001b[0m \u001b[0;34m'cls2'\u001b[0m\u001b[0;34m,\u001b[0m \u001b[0mTCIntf\u001b[0m \u001b[0;34m)\u001b[0m\u001b[0;34m\u001b[0m\u001b[0;34m\u001b[0m\u001b[0m\n\u001b[0;32m--> 568\u001b[0;31m         \u001b[0mLink\u001b[0m\u001b[0;34m.\u001b[0m\u001b[0m__init__\u001b[0m\u001b[0;34m(\u001b[0m \u001b[0mself\u001b[0m\u001b[0;34m,\u001b[0m \u001b[0;34m*\u001b[0m\u001b[0margs\u001b[0m\u001b[0;34m,\u001b[0m \u001b[0;34m**\u001b[0m\u001b[0mkwargs\u001b[0m\u001b[0;34m)\u001b[0m\u001b[0;34m\u001b[0m\u001b[0;34m\u001b[0m\u001b[0m\n\u001b[0m\u001b[1;32m    569\u001b[0m \u001b[0;34m\u001b[0m\u001b[0m\n\u001b[1;32m    570\u001b[0m \u001b[0;34m\u001b[0m\u001b[0m\n",
      "\u001b[0;32m/usr/lib/python3/dist-packages/mininet/link.py\u001b[0m in \u001b[0;36m__init__\u001b[0;34m(self, node1, node2, port1, port2, intfName1, intfName2, addr1, addr2, intf, cls1, cls2, params1, params2, fast, **params)\u001b[0m\n\u001b[1;32m    454\u001b[0m             \u001b[0mparams1\u001b[0m\u001b[0;34m.\u001b[0m\u001b[0msetdefault\u001b[0m\u001b[0;34m(\u001b[0m \u001b[0;34m'moveIntfFn'\u001b[0m\u001b[0;34m,\u001b[0m \u001b[0mself\u001b[0m\u001b[0;34m.\u001b[0m\u001b[0m_ignore\u001b[0m \u001b[0;34m)\u001b[0m\u001b[0;34m\u001b[0m\u001b[0;34m\u001b[0m\u001b[0m\n\u001b[1;32m    455\u001b[0m             \u001b[0mparams2\u001b[0m\u001b[0;34m.\u001b[0m\u001b[0msetdefault\u001b[0m\u001b[0;34m(\u001b[0m \u001b[0;34m'moveIntfFn'\u001b[0m\u001b[0;34m,\u001b[0m \u001b[0mself\u001b[0m\u001b[0;34m.\u001b[0m\u001b[0m_ignore\u001b[0m \u001b[0;34m)\u001b[0m\u001b[0;34m\u001b[0m\u001b[0;34m\u001b[0m\u001b[0m\n\u001b[0;32m--> 456\u001b[0;31m             self.makeIntfPair( intfName1, intfName2, addr1, addr2,\n\u001b[0m\u001b[1;32m    457\u001b[0m                                node1, node2, deleteIntfs=False )\n\u001b[1;32m    458\u001b[0m         \u001b[0;32melse\u001b[0m\u001b[0;34m:\u001b[0m\u001b[0;34m\u001b[0m\u001b[0;34m\u001b[0m\u001b[0m\n",
      "\u001b[0;32m/usr/lib/python3/dist-packages/mininet/link.py\u001b[0m in \u001b[0;36mmakeIntfPair\u001b[0;34m(cls, intfname1, intfname2, addr1, addr2, node1, node2, deleteIntfs)\u001b[0m\n\u001b[1;32m    499\u001b[0m         \u001b[0;31m# Leave this as a class method for now\u001b[0m\u001b[0;34m\u001b[0m\u001b[0;34m\u001b[0m\u001b[0m\n\u001b[1;32m    500\u001b[0m         \u001b[0;32massert\u001b[0m \u001b[0mcls\u001b[0m\u001b[0;34m\u001b[0m\u001b[0;34m\u001b[0m\u001b[0m\n\u001b[0;32m--> 501\u001b[0;31m         return makeIntfPair( intfname1, intfname2, addr1, addr2, node1, node2,\n\u001b[0m\u001b[1;32m    502\u001b[0m                              deleteIntfs=deleteIntfs )\n\u001b[1;32m    503\u001b[0m \u001b[0;34m\u001b[0m\u001b[0m\n",
      "\u001b[0;32m/usr/lib/python3/dist-packages/mininet/util.py\u001b[0m in \u001b[0;36mmakeIntfPair\u001b[0;34m(intf1, intf2, addr1, addr2, node1, node2, deleteIntfs, runCmd)\u001b[0m\n\u001b[1;32m    268\u001b[0m                             (  intf1, addr1, intf2, addr2, netns ) )\n\u001b[1;32m    269\u001b[0m     \u001b[0;32mif\u001b[0m \u001b[0mcmdOutput\u001b[0m\u001b[0;34m:\u001b[0m\u001b[0;34m\u001b[0m\u001b[0;34m\u001b[0m\u001b[0m\n\u001b[0;32m--> 270\u001b[0;31m         raise Exception( \"Error creating interface pair (%s,%s): %s \" %\n\u001b[0m\u001b[1;32m    271\u001b[0m                          ( intf1, intf2, cmdOutput ) )\n\u001b[1;32m    272\u001b[0m \u001b[0;34m\u001b[0m\u001b[0m\n",
      "\u001b[0;31mException\u001b[0m: Error creating interface pair (h1-eth0,s1-eth1): RTNETLINK answers: Operation not permitted\r\n "
     ]
    }
   ],
   "source": [
    "from mininet.net import Mininet\n",
    "from mininet.topo import Topo\n",
    "from mininet.link import TCLink\n",
    "from mininet.node import RemoteController\n",
    "\n",
    "class SimpleTopo(Topo):\n",
    "    def build(self):\n",
    "        switch = self.addSwitch('s1')\n",
    "        h1 = self.addHost('h1')\n",
    "        h2 = self.addHost('h2')\n",
    "        self.addLink(h1, switch)\n",
    "        self.addLink(h2, switch)\n",
    "\n",
    "net = Mininet(topo=SimpleTopo(), link=TCLink, controller = RemoteController)\n",
    "# net = Mininet(topo=SimpleTopo())\n",
    "net.start()\n",
    "net.pingAll()\n",
    "net.stop()\n"
   ]
  },
  {
   "cell_type": "code",
   "execution_count": 23,
   "metadata": {
    "colab": {
     "base_uri": "https://localhost:8080/"
    },
    "id": "W4n5DwvIRUxV",
    "outputId": "944f9683-258d-49b6-afc5-10108464ef7c"
   },
   "outputs": [
    {
     "name": "stdout",
     "output_type": "stream",
     "text": [
      "modprobe: FATAL: Module openvswitch not found in directory /lib/modules/6.1.85+\n"
     ]
    }
   ],
   "source": [
    "!sudo modprobe openvswitch\n"
   ]
  },
  {
   "cell_type": "code",
   "execution_count": 24,
   "metadata": {
    "colab": {
     "base_uri": "https://localhost:8080/"
    },
    "id": "D6-ZLcxvRw5y",
    "outputId": "0cd16c38-89f6-4e10-b34b-be413a3ca2b2"
   },
   "outputs": [
    {
     "name": "stdout",
     "output_type": "stream",
     "text": [
      "Reading package lists... Done\n",
      "Building dependency tree... Done\n",
      "Reading state information... Done\n",
      "\u001b[1;31mE: \u001b[0mUnable to locate package linux-headers-6.1.85\u001b[0m\n",
      "\u001b[1;31mE: \u001b[0mCouldn't find any package by glob 'linux-headers-6.1.85'\u001b[0m\n",
      "Cloning into 'ovs'...\n",
      "remote: Enumerating objects: 178282, done.\u001b[K\n",
      "remote: Counting objects: 100% (2264/2264), done.\u001b[K\n",
      "remote: Compressing objects: 100% (650/650), done.\u001b[K\n",
      "remote: Total 178282 (delta 1806), reused 1737 (delta 1560), pack-reused 176018 (from 1)\u001b[K\n",
      "Receiving objects: 100% (178282/178282), 126.45 MiB | 24.16 MiB/s, done.\n",
      "Resolving deltas: 100% (141589/141589), done.\n",
      "/bin/bash: line 1: ./boot.sh: No such file or directory\n",
      "/bin/bash: line 1: ./configure: No such file or directory\n",
      "make: *** No targets specified and no makefile found.  Stop.\n",
      "make: *** No rule to make target 'install'.  Stop.\n",
      "make: *** No rule to make target 'modules_install'.  Stop.\n",
      "modprobe: FATAL: Module openvswitch not found in directory /lib/modules/6.1.85+\n"
     ]
    }
   ],
   "source": [
    "!sudo apt install linux-headers-$(uname -r)\n",
    "!git clone https://github.com/openvswitch/ovs.git\n",
    "!cd ovs\n",
    "!./boot.sh\n",
    "!./configure --with-linux=/lib/modules/$(uname -r)/build\n",
    "!make\n",
    "!sudo make install\n",
    "!sudo make modules_install\n",
    "!sudo modprobe openvswitch\n"
   ]
  },
  {
   "cell_type": "code",
   "execution_count": 25,
   "metadata": {
    "colab": {
     "base_uri": "https://localhost:8080/"
    },
    "id": "v9TIiIxYSM73",
    "outputId": "21c64842-e474-4e8f-fb0d-8793fe3a399e"
   },
   "outputs": [
    {
     "name": "stdout",
     "output_type": "stream",
     "text": [
      "\u001b[33m\r0% [Working]\u001b[0m\r            \rGet:1 https://cloud.r-project.org/bin/linux/ubuntu jammy-cran40/ InRelease [3,626 B]\n",
      "\u001b[33m\r0% [Connecting to archive.ubuntu.com (185.125.190.82)] [Connecting to security.\u001b[0m\u001b[33m\r0% [Connecting to archive.ubuntu.com (185.125.190.82)] [Connecting to security.\u001b[0m\r                                                                               \rGet:2 https://developer.download.nvidia.com/compute/cuda/repos/ubuntu2204/x86_64  InRelease [1,581 B]\n",
      "\u001b[33m\r0% [Waiting for headers] [Waiting for headers] [Waiting for headers] [Connected\u001b[0m\r                                                                               \rGet:3 http://security.ubuntu.com/ubuntu jammy-security InRelease [129 kB]\n",
      "\u001b[33m\r0% [Waiting for headers] [3 InRelease 14.2 kB/129 kB 11%] [Waiting for headers]\u001b[0m\r                                                                               \rHit:4 http://archive.ubuntu.com/ubuntu jammy InRelease\n",
      "\u001b[33m\r0% [3 InRelease 14.2 kB/129 kB 11%] [Waiting for headers] [Connected to ppa.lau\u001b[0m\r                                                                               \rGet:5 https://r2u.stat.illinois.edu/ubuntu jammy InRelease [6,555 B]\n",
      "Get:6 http://archive.ubuntu.com/ubuntu jammy-updates InRelease [128 kB]\n",
      "Get:7 https://developer.download.nvidia.com/compute/cuda/repos/ubuntu2204/x86_64  Packages [1,188 kB]\n",
      "Hit:8 https://ppa.launchpadcontent.net/deadsnakes/ppa/ubuntu jammy InRelease\n",
      "Hit:9 https://ppa.launchpadcontent.net/graphics-drivers/ppa/ubuntu jammy InRelease\n",
      "Hit:10 https://ppa.launchpadcontent.net/ubuntugis/ppa/ubuntu jammy InRelease\n",
      "Get:11 https://r2u.stat.illinois.edu/ubuntu jammy/main all Packages [8,527 kB]\n",
      "Get:12 http://archive.ubuntu.com/ubuntu jammy-backports InRelease [127 kB]\n",
      "Get:13 https://r2u.stat.illinois.edu/ubuntu jammy/main amd64 Packages [2,626 kB]\n",
      "Get:14 http://security.ubuntu.com/ubuntu jammy-security/universe amd64 Packages [1,224 kB]\n",
      "Get:15 http://archive.ubuntu.com/ubuntu jammy-updates/universe amd64 Packages [1,513 kB]\n",
      "Get:16 http://security.ubuntu.com/ubuntu jammy-security/main amd64 Packages [2,454 kB]\n",
      "Get:17 http://archive.ubuntu.com/ubuntu jammy-updates/main amd64 Packages [2,738 kB]\n",
      "Fetched 20.7 MB in 2s (8,790 kB/s)\n",
      "Reading package lists... Done\n",
      "Building dependency tree... Done\n",
      "Reading state information... Done\n",
      "51 packages can be upgraded. Run 'apt list --upgradable' to see them.\n",
      "\u001b[1;33mW: \u001b[0mSkipping acquire of configured file 'main/source/Sources' as repository 'https://r2u.stat.illinois.edu/ubuntu jammy InRelease' does not seem to provide it (sources.list entry misspelt?)\u001b[0m\n",
      "Reading package lists... Done\n",
      "Building dependency tree... Done\n",
      "Reading state information... Done\n",
      "\u001b[1;31mE: \u001b[0mUnable to locate package linux-headers-6.1.85\u001b[0m\n",
      "\u001b[1;31mE: \u001b[0mCouldn't find any package by glob 'linux-headers-6.1.85'\u001b[0m\n"
     ]
    }
   ],
   "source": [
    "!sudo apt update\n",
    "!sudo apt install linux-headers-$(uname -r)\n"
   ]
  }
 ],
 "metadata": {
  "colab": {
   "provenance": []
  },
  "kernelspec": {
   "display_name": "abm_markov_nids-lnjRAUcP",
   "language": "python",
   "name": "python3"
  },
  "language_info": {
   "name": "python",
   "version": "3.11.7"
  }
 },
 "nbformat": 4,
 "nbformat_minor": 0
}
